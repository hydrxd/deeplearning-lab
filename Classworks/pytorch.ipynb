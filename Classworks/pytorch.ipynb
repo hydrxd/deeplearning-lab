{
 "cells": [
  {
   "cell_type": "code",
   "execution_count": 1,
   "metadata": {},
   "outputs": [],
   "source": [
    "import numpy as np\n",
    "import torch\n",
    "import math\n",
    "import matplotlib.pyplot as plt"
   ]
  },
  {
   "attachments": {},
   "cell_type": "markdown",
   "metadata": {},
   "source": [
    "## Creating Tensors:"
   ]
  },
  {
   "cell_type": "code",
   "execution_count": 24,
   "metadata": {},
   "outputs": [
    {
     "name": "stdout",
     "output_type": "stream",
     "text": [
      "X = tensor([0.1000, 0.2000, 0.3000]),\n",
      "Shape = torch.Size([3])\n"
     ]
    }
   ],
   "source": [
    "X = torch.tensor([0.1,0.2,0.3])\n",
    "print(f\"X = {X},\\nShape = {X.shape}\")"
   ]
  },
  {
   "cell_type": "code",
   "execution_count": 23,
   "metadata": {},
   "outputs": [
    {
     "name": "stdout",
     "output_type": "stream",
     "text": [
      "Y = tensor([0.2000, 0.3000, 0.4000], dtype=torch.float64),\n",
      "Shape = torch.Size([3])\n"
     ]
    }
   ],
   "source": [
    "Y = np.array([0.2,0.3,0.4])\n",
    "Y = torch.tensor(Y)\n",
    "print(f\"Y = {Y},\\nShape = {Y.shape}\")"
   ]
  },
  {
   "cell_type": "code",
   "execution_count": 21,
   "metadata": {},
   "outputs": [
    {
     "name": "stdout",
     "output_type": "stream",
     "text": [
      "Bias: tensor([1., 1., 1.]),\n",
      "Shape = torch.Size([3])\n"
     ]
    }
   ],
   "source": [
    "bias = torch.ones(3)\n",
    "print(f\"Bias: {bias},\\nShape = {bias.shape}\")"
   ]
  },
  {
   "attachments": {},
   "cell_type": "markdown",
   "metadata": {},
   "source": [
    "## Random Initialization:"
   ]
  },
  {
   "cell_type": "code",
   "execution_count": 22,
   "metadata": {},
   "outputs": [
    {
     "name": "stdout",
     "output_type": "stream",
     "text": [
      "Weights: tensor([0.2392, 0.1283, 0.9634]),\n",
      "Shape: torch.Size([3])\n"
     ]
    }
   ],
   "source": [
    "weights = torch.rand(3)\n",
    "print(f\"Weights: {weights},\\nShape: {weights.shape}\")"
   ]
  },
  {
   "attachments": {},
   "cell_type": "markdown",
   "metadata": {},
   "source": [
    "## Two Input Features"
   ]
  },
  {
   "cell_type": "code",
   "execution_count": 27,
   "metadata": {},
   "outputs": [
    {
     "name": "stdout",
     "output_type": "stream",
     "text": [
      "Input: tensor([[0.1000, 0.2000, 0.3000],\n",
      "        [0.1230, 0.3200, 0.3100]]),\n",
      "Shape: torch.Size([2, 3])\n"
     ]
    }
   ],
   "source": [
    "f1 = [0.1,0.2,0.3]\n",
    "f2 = [0.123,0.32,0.31]\n",
    "\n",
    "X = [f1,f2]\n",
    "input_matrix = torch.tensor(X)\n",
    "\n",
    "print(f\"Input: {input_matrix},\\nShape: {input_matrix.shape}\")"
   ]
  },
  {
   "attachments": {},
   "cell_type": "markdown",
   "metadata": {},
   "source": [
    "## Working with Different Dimensions:"
   ]
  },
  {
   "cell_type": "code",
   "execution_count": 29,
   "metadata": {},
   "outputs": [
    {
     "data": {
      "text/plain": [
       "tensor([0., 0., 0.])"
      ]
     },
     "execution_count": 29,
     "metadata": {},
     "output_type": "execute_result"
    }
   ],
   "source": [
    "shape = 3\n",
    "\n",
    "weight = torch.zeros(shape)\n",
    "weight"
   ]
  },
  {
   "cell_type": "code",
   "execution_count": 33,
   "metadata": {},
   "outputs": [
    {
     "data": {
      "text/plain": [
       "tensor([[0., 0., 0., 0.],\n",
       "        [0., 0., 0., 0.],\n",
       "        [0., 0., 0., 0.]])"
      ]
     },
     "execution_count": 33,
     "metadata": {},
     "output_type": "execute_result"
    }
   ],
   "source": [
    "shape = (3,4)\n",
    "\n",
    "weights = torch.zeros(shape)\n",
    "weights"
   ]
  },
  {
   "cell_type": "code",
   "execution_count": 35,
   "metadata": {},
   "outputs": [
    {
     "data": {
      "text/plain": [
       "tensor([[[0., 0., 0., 0.],\n",
       "         [0., 0., 0., 0.],\n",
       "         [0., 0., 0., 0.]],\n",
       "\n",
       "        [[0., 0., 0., 0.],\n",
       "         [0., 0., 0., 0.],\n",
       "         [0., 0., 0., 0.]]])"
      ]
     },
     "execution_count": 35,
     "metadata": {},
     "output_type": "execute_result"
    }
   ],
   "source": [
    "shape = (2,3,4)\n",
    "\n",
    "weights = torch.zeros(shape)\n",
    "weights"
   ]
  },
  {
   "cell_type": "code",
   "execution_count": 2,
   "metadata": {},
   "outputs": [
    {
     "data": {
      "text/plain": [
       "tensor([[1, 2, 3],\n",
       "        [4, 5, 6]])"
      ]
     },
     "execution_count": 2,
     "metadata": {},
     "output_type": "execute_result"
    }
   ],
   "source": [
    "# Create a 2D tensor t1 of random values with shape (2x3).\n",
    "\n",
    "shape = (2,3)\n",
    "t1 = torch.rand(shape)\n",
    "t1\n",
    "\n",
    "t2 = torch.tensor([[1,2,3],[4,5,6]])\n",
    "t2"
   ]
  },
  {
   "cell_type": "code",
   "execution_count": 4,
   "metadata": {},
   "outputs": [
    {
     "data": {
      "text/plain": [
       "tensor([-3.1416, -3.1384, -3.1353,  ...,  3.1353,  3.1384,  3.1416])"
      ]
     },
     "execution_count": 4,
     "metadata": {},
     "output_type": "execute_result"
    }
   ],
   "source": []
  },
  {
   "cell_type": "code",
   "execution_count": 5,
   "metadata": {},
   "outputs": [
    {
     "data": {
      "text/plain": [
       "tensor([ 8.7423e-08, -3.1430e-03, -6.2863e-03,  ...,  6.2863e-03,\n",
       "         3.1430e-03, -8.7423e-08])"
      ]
     },
     "execution_count": 5,
     "metadata": {},
     "output_type": "execute_result"
    }
   ],
   "source": []
  },
  {
   "cell_type": "code",
   "execution_count": 6,
   "metadata": {},
   "outputs": [
    {
     "data": {
      "image/png": "[encoded data removed]",
      "text/plain": [
       "<Figure size 640x480 with 1 Axes>"
      ]
     },
     "metadata": {},
     "output_type": "display_data"
    }
   ],
   "source": []
  },
  {
   "cell_type": "code",
   "execution_count": 14,
   "metadata": {},
   "outputs": [],
   "source": []
  },
  {
   "cell_type": "code",
   "execution_count": 29,
   "metadata": {},
   "outputs": [
    {
     "name": "stdout",
     "output_type": "stream",
     "text": [
      "SimpleANN(\n",
      "  (hiddenL): Linear(in_features=1, out_features=3, bias=True)\n",
      "  (outputL): Linear(in_features=3, out_features=1, bias=True)\n",
      ")\n"
     ]
    }
   ],
   "source": []
  },
  {
   "cell_type": "code",
   "execution_count": 27,
   "metadata": {},
   "outputs": [],
   "source": []
  },
  {
   "cell_type": "code",
   "execution_count": 28,
   "metadata": {},
   "outputs": [
    {
     "name": "stdout",
     "output_type": "stream",
     "text": [
      "***Input of Hidden Layer***\n",
      " tensor([[-0.4398, -1.8701, -0.4862,  0.8247, -0.1959],\n",
      "        [-0.4400, -1.8684, -0.4854,  0.8240, -0.1960],\n",
      "        [-0.4402, -1.8666, -0.4846,  0.8233, -0.1961],\n",
      "        ...,\n",
      "        [-0.8874,  1.6519,  1.1301, -0.5960, -0.3909],\n",
      "        [-0.8876,  1.6537,  1.1309, -0.5967, -0.3910],\n",
      "        [-0.8879,  1.6554,  1.1317, -0.5974, -0.3911]],\n",
      "       grad_fn=<AddmmBackward0>)\n",
      "Size: torch.Size([2000, 5])\n",
      "***Hidden Layer OP***\n",
      " tensor([[0.0000, 0.0000, 0.0000, 0.8247, 0.0000],\n",
      "        [0.0000, 0.0000, 0.0000, 0.8240, 0.0000],\n",
      "        [0.0000, 0.0000, 0.0000, 0.8233, 0.0000],\n",
      "        ...,\n",
      "        [0.0000, 1.6519, 1.1301, 0.0000, 0.0000],\n",
      "        [0.0000, 1.6537, 1.1309, 0.0000, 0.0000],\n",
      "        [0.0000, 1.6554, 1.1317, 0.0000, 0.0000]], grad_fn=<ReluBackward0>)\n",
      "Size: torch.Size([2000, 5])\n",
      "***Predicted Value***\n",
      " tensor([[-0.4804],\n",
      "        [-0.4802],\n",
      "        [-0.4799],\n",
      "        ...,\n",
      "        [ 0.0475],\n",
      "        [ 0.0477],\n",
      "        [ 0.0479]], grad_fn=<AddmmBackward0>)\n",
      "Size: torch.Size([2000, 1])\n",
      "Loss = 0.36554738879203796\n"
     ]
    }
   ],
   "source": []
  },
  {
   "cell_type": "code",
   "execution_count": null,
   "metadata": {},
   "outputs": [],
   "source": []
  }
 ],
 "metadata": {
  "interpreter": {
   "hash": "699171277c4401370b491d0c8811369ed38c3c6afb3563370eb249a4f50a2776"
  },
  "kernelspec": {
   "display_name": "Python 3.12.4 64-bit ('venv': venv)",
   "language": "python",
   "name": "python3"
  },
  "language_info": {
   "codemirror_mode": {
    "name": "ipython",
    "version": 3
   },
   "file_extension": ".py",
   "mimetype": "text/x-python",
   "name": "python",
   "nbconvert_exporter": "python",
   "pygments_lexer": "ipython3",
   "version": "3.12.4"
  },
  "orig_nbformat": 4
 },
 "nbformat": 4,
 "nbformat_minor": 2
}
