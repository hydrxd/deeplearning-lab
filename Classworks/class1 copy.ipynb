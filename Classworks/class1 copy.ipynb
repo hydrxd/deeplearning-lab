{
 "cells": [
  {
   "cell_type": "code",
   "execution_count": 1,
   "metadata": {},
   "outputs": [],
   "source": [
    "import numpy as np\n",
    "import torch\n",
    "import math\n",
    "import matplotlib.pyplot as plt\n",
    "import pandas as pd"
   ]
  },
  {
   "cell_type": "code",
   "execution_count": 2,
   "metadata": {},
   "outputs": [
    {
     "data": {
      "text/plain": [
       "tensor([-3.1416, -3.1384, -3.1353,  ...,  3.1353,  3.1384,  3.1416])"
      ]
     },
     "execution_count": 2,
     "metadata": {},
     "output_type": "execute_result"
    }
   ],
   "source": [
    "X = torch.linspace(-math.pi, math.pi, 2000)\n",
    "X"
   ]
  },
  {
   "cell_type": "code",
   "execution_count": 3,
   "metadata": {},
   "outputs": [
    {
     "data": {
      "text/plain": [
       "tensor([ 8.7423e-08, -3.1430e-03, -6.2863e-03,  ...,  6.2863e-03,\n",
       "         3.1430e-03, -8.7423e-08])"
      ]
     },
     "execution_count": 3,
     "metadata": {},
     "output_type": "execute_result"
    }
   ],
   "source": [
    "y = torch.sin(X)\n",
    "y"
   ]
  },
  {
   "cell_type": "code",
   "execution_count": 10,
   "metadata": {},
   "outputs": [
    {
     "name": "stdout",
     "output_type": "stream",
     "text": [
      "tensor([[-3.1416],\n",
      "        [-3.1384],\n",
      "        [-3.1353],\n",
      "        ...,\n",
      "        [ 3.1353],\n",
      "        [ 3.1384],\n",
      "        [ 3.1416]])\n",
      "tensor([[ 8.7423e-08],\n",
      "        [-3.1430e-03],\n",
      "        [-6.2863e-03],\n",
      "        ...,\n",
      "        [ 6.2863e-03],\n",
      "        [ 3.1430e-03],\n",
      "        [-8.7423e-08]])\n"
     ]
    }
   ],
   "source": [
    "x_train = X.reshape(-1,1)\n",
    "y_train = y.reshape(-1,1)\n",
    "\n",
    "print(x_train)\n",
    "print(y_train)"
   ]
  },
  {
   "cell_type": "code",
   "execution_count": 5,
   "metadata": {},
   "outputs": [
    {
     "data": {
      "image/png": "[encoded data removed]",
      "text/plain": [
       "<Figure size 640x480 with 1 Axes>"
      ]
     },
     "metadata": {},
     "output_type": "display_data"
    }
   ],
   "source": [
    "plt.plot(X, y, color='green')\n",
    "plt.show()"
   ]
  },
  {
   "cell_type": "code",
   "execution_count": 17,
   "metadata": {},
   "outputs": [
    {
     "name": "stdout",
     "output_type": "stream",
     "text": [
      "SimpleANN(\n",
      "  (hiddenL): Linear(in_features=1, out_features=3, bias=True)\n",
      "  (outputL): Linear(in_features=3, out_features=1, bias=True)\n",
      ")\n"
     ]
    }
   ],
   "source": [
    "\n",
    "class SimpleANN(torch.nn.Module):\n",
    "    def __init__(self):\n",
    "        super().__init__()\n",
    "        self.hiddenL = torch.nn.Linear(1,3)\n",
    "        self.outputL = torch.nn.Linear(3,1)\n",
    "    \n",
    "    def forward(self,X):\n",
    "        l1 = self.hiddenL(X)\n",
    "        h1 = torch.relu(l1)\n",
    "        l2 = self.outputL(h1)\n",
    "        return l2\n",
    "\n",
    "model = SimpleANN()\n",
    "print(model)"
   ]
  },
  {
   "cell_type": "code",
   "execution_count": 18,
   "metadata": {},
   "outputs": [],
   "source": [
    "crit = torch.nn.MSELoss()\n",
    "optimizer = torch.optim.SGD(model.parameters(), lr=10e-2)\n",
    "epochs = 10"
   ]
  },
  {
   "cell_type": "code",
   "execution_count": 19,
   "metadata": {},
   "outputs": [],
   "source": [
    "losses = []\n",
    "\n",
    "for epoch in range(epochs):\n",
    "    optimizer.zero_grad()\n",
    "\n",
    "    output = model(x_train)\n",
    "\n",
    "    loss = crit(y_train,output)\n",
    "\n",
    "    loss.backward()\n",
    "\n",
    "    "
   ]
  },
  {
   "cell_type": "code",
   "execution_count": 33,
   "metadata": {},
   "outputs": [
    {
     "ename": "AttributeError",
     "evalue": "'NoneType' object has no attribute 'size'",
     "output_type": "error",
     "traceback": [
      "\u001b[1;31m---------------------------------------------------------------------------\u001b[0m",
      "\u001b[1;31mAttributeError\u001b[0m                            Traceback (most recent call last)",
      "Cell \u001b[1;32mIn[33], line 8\u001b[0m\n\u001b[0;32m      4\u001b[0m optimizer\u001b[39m.\u001b[39mzero_grad()\n\u001b[0;32m      6\u001b[0m output \u001b[39m=\u001b[39m model(x_train)\n\u001b[1;32m----> 8\u001b[0m loss \u001b[39m=\u001b[39m crit(y_train,output)\n\u001b[0;32m      9\u001b[0m \u001b[39m#print(f\"Loss = {loss}\")\u001b[39;00m\n\u001b[0;32m     11\u001b[0m \u001b[39mif\u001b[39;00m epoch \u001b[39m%\u001b[39m \u001b[39m100\u001b[39m \u001b[39m==\u001b[39m \u001b[39m0\u001b[39m:\n",
      "File \u001b[1;32mc:\\Users\\psg\\Desktop\\22n208\\.env\\Lib\\site-packages\\torch\\nn\\modules\\module.py:1532\u001b[0m, in \u001b[0;36mModule._wrapped_call_impl\u001b[1;34m(self, *args, **kwargs)\u001b[0m\n\u001b[0;32m   1530\u001b[0m     \u001b[39mreturn\u001b[39;00m \u001b[39mself\u001b[39m\u001b[39m.\u001b[39m_compiled_call_impl(\u001b[39m*\u001b[39margs, \u001b[39m*\u001b[39m\u001b[39m*\u001b[39mkwargs)  \u001b[39m# type: ignore[misc]\u001b[39;00m\n\u001b[0;32m   1531\u001b[0m \u001b[39melse\u001b[39;00m:\n\u001b[1;32m-> 1532\u001b[0m     \u001b[39mreturn\u001b[39;00m \u001b[39mself\u001b[39;49m\u001b[39m.\u001b[39;49m_call_impl(\u001b[39m*\u001b[39;49margs, \u001b[39m*\u001b[39;49m\u001b[39m*\u001b[39;49mkwargs)\n",
      "File \u001b[1;32mc:\\Users\\psg\\Desktop\\22n208\\.env\\Lib\\site-packages\\torch\\nn\\modules\\module.py:1541\u001b[0m, in \u001b[0;36mModule._call_impl\u001b[1;34m(self, *args, **kwargs)\u001b[0m\n\u001b[0;32m   1536\u001b[0m \u001b[39m# If we don't have any hooks, we want to skip the rest of the logic in\u001b[39;00m\n\u001b[0;32m   1537\u001b[0m \u001b[39m# this function, and just call forward.\u001b[39;00m\n\u001b[0;32m   1538\u001b[0m \u001b[39mif\u001b[39;00m \u001b[39mnot\u001b[39;00m (\u001b[39mself\u001b[39m\u001b[39m.\u001b[39m_backward_hooks \u001b[39mor\u001b[39;00m \u001b[39mself\u001b[39m\u001b[39m.\u001b[39m_backward_pre_hooks \u001b[39mor\u001b[39;00m \u001b[39mself\u001b[39m\u001b[39m.\u001b[39m_forward_hooks \u001b[39mor\u001b[39;00m \u001b[39mself\u001b[39m\u001b[39m.\u001b[39m_forward_pre_hooks\n\u001b[0;32m   1539\u001b[0m         \u001b[39mor\u001b[39;00m _global_backward_pre_hooks \u001b[39mor\u001b[39;00m _global_backward_hooks\n\u001b[0;32m   1540\u001b[0m         \u001b[39mor\u001b[39;00m _global_forward_hooks \u001b[39mor\u001b[39;00m _global_forward_pre_hooks):\n\u001b[1;32m-> 1541\u001b[0m     \u001b[39mreturn\u001b[39;00m forward_call(\u001b[39m*\u001b[39;49margs, \u001b[39m*\u001b[39;49m\u001b[39m*\u001b[39;49mkwargs)\n\u001b[0;32m   1543\u001b[0m \u001b[39mtry\u001b[39;00m:\n\u001b[0;32m   1544\u001b[0m     result \u001b[39m=\u001b[39m \u001b[39mNone\u001b[39;00m\n",
      "File \u001b[1;32mc:\\Users\\psg\\Desktop\\22n208\\.env\\Lib\\site-packages\\torch\\nn\\modules\\loss.py:535\u001b[0m, in \u001b[0;36mMSELoss.forward\u001b[1;34m(self, input, target)\u001b[0m\n\u001b[0;32m    534\u001b[0m \u001b[39mdef\u001b[39;00m \u001b[39mforward\u001b[39m(\u001b[39mself\u001b[39m, \u001b[39minput\u001b[39m: Tensor, target: Tensor) \u001b[39m-\u001b[39m\u001b[39m>\u001b[39m Tensor:\n\u001b[1;32m--> 535\u001b[0m     \u001b[39mreturn\u001b[39;00m F\u001b[39m.\u001b[39;49mmse_loss(\u001b[39minput\u001b[39;49m, target, reduction\u001b[39m=\u001b[39;49m\u001b[39mself\u001b[39;49m\u001b[39m.\u001b[39;49mreduction)\n",
      "File \u001b[1;32mc:\\Users\\psg\\Desktop\\22n208\\.env\\Lib\\site-packages\\torch\\nn\\functional.py:3355\u001b[0m, in \u001b[0;36mmse_loss\u001b[1;34m(input, target, size_average, reduce, reduction)\u001b[0m\n\u001b[0;32m   3351\u001b[0m \u001b[39mif\u001b[39;00m has_torch_function_variadic(\u001b[39minput\u001b[39m, target):\n\u001b[0;32m   3352\u001b[0m     \u001b[39mreturn\u001b[39;00m handle_torch_function(\n\u001b[0;32m   3353\u001b[0m         mse_loss, (\u001b[39minput\u001b[39m, target), \u001b[39minput\u001b[39m, target, size_average\u001b[39m=\u001b[39msize_average, reduce\u001b[39m=\u001b[39mreduce, reduction\u001b[39m=\u001b[39mreduction\n\u001b[0;32m   3354\u001b[0m     )\n\u001b[1;32m-> 3355\u001b[0m \u001b[39mif\u001b[39;00m \u001b[39mnot\u001b[39;00m (target\u001b[39m.\u001b[39;49msize() \u001b[39m==\u001b[39m \u001b[39minput\u001b[39m\u001b[39m.\u001b[39msize()):\n\u001b[0;32m   3356\u001b[0m     warnings\u001b[39m.\u001b[39mwarn(\n\u001b[0;32m   3357\u001b[0m         \u001b[39mf\u001b[39m\u001b[39m\"\u001b[39m\u001b[39mUsing a target size (\u001b[39m\u001b[39m{\u001b[39;00mtarget\u001b[39m.\u001b[39msize()\u001b[39m}\u001b[39;00m\u001b[39m) that is different to the input size (\u001b[39m\u001b[39m{\u001b[39;00m\u001b[39minput\u001b[39m\u001b[39m.\u001b[39msize()\u001b[39m}\u001b[39;00m\u001b[39m). \u001b[39m\u001b[39m\"\u001b[39m\n\u001b[0;32m   3358\u001b[0m         \u001b[39m\"\u001b[39m\u001b[39mThis will likely lead to incorrect results due to broadcasting. \u001b[39m\u001b[39m\"\u001b[39m\n\u001b[0;32m   3359\u001b[0m         \u001b[39m\"\u001b[39m\u001b[39mPlease ensure they have the same size.\u001b[39m\u001b[39m\"\u001b[39m,\n\u001b[0;32m   3360\u001b[0m         stacklevel\u001b[39m=\u001b[39m\u001b[39m2\u001b[39m,\n\u001b[0;32m   3361\u001b[0m     )\n\u001b[0;32m   3362\u001b[0m \u001b[39mif\u001b[39;00m size_average \u001b[39mis\u001b[39;00m \u001b[39mnot\u001b[39;00m \u001b[39mNone\u001b[39;00m \u001b[39mor\u001b[39;00m reduce \u001b[39mis\u001b[39;00m \u001b[39mnot\u001b[39;00m \u001b[39mNone\u001b[39;00m:\n",
      "\u001b[1;31mAttributeError\u001b[0m: 'NoneType' object has no attribute 'size'"
     ]
    }
   ],
   "source": [
    "losses = []\n",
    "\n",
    "for epoch in range(epochs):\n",
    "    optimizer.zero_grad()\n",
    "\n",
    "    output = model(x_train)\n",
    "\n",
    "    loss = crit(y_train,output)\n",
    "    #print(f\"Loss = {loss}\")\n",
    "\n",
    "    if epoch % 100 == 0:\n",
    "        print(f\"Epoch: {epoch}, Loss: {loss.item()}\")\n",
    "    \n",
    "    if epoch == 1 or epoch == 50 or epoch == 100 or epoch == 200 or epoch == 500 or epoch == 1000:\n",
    "        losses.append(loss.item())\n",
    "\n",
    "    '''print(\"\\nBEFORE BACK PROPAGATION\")\n",
    "    print(f\"Hidden Layer Weights: {model.hiddenL.weight}, Biases: {model.hiddenL.bias}\")\n",
    "    print(f\"Hidden weight grad: {model.hiddenL.weight.grad}, Bias Grad: {model.hiddenL.bias.grad}\")\n",
    "    print(f\"Output Layer Weights: {model.outputL.weight}, Biases: {model.outputL.bias}\")\n",
    "    print(f\"Output weight grad: {model.outputL.weight.grad}, Bias: {model.outputL.bias.grad}\")'''\n",
    "\n",
    "    loss.backward()\n",
    "\n",
    "    '''print(\"\\nAfter Back Propagation:\")\n",
    "    print(f\"Hidden Layer Weights: {model.hiddenL.weight}, Biases: {model.hiddenL.bias}\")\n",
    "    print(f\"Hidden weight grad: {model.hiddenL.weight.grad}, Bias Grad: {model.hiddenL.bias.grad}\")\n",
    "    print(f\"Output Layer Weights: {model.outputL.weight}, Biases: {model.outputL.bias}\")\n",
    "    print(f\"Output weight grad: {model.outputL.weight.grad}, Bias: {model.outputL.bias.grad}\")'''\n",
    "\n",
    "    optimizer.step()\n",
    "    \n",
    "    '''print(\"\\nAfter Changing Weight\")\n",
    "    print(f\"Hidden Layer Weights: {model.hiddenL.weight}, Biases: {model.hiddenL.bias}\")\n",
    "    print(f\"Hidden weight grad: {model.hiddenL.weight.grad}, Bias Grad: {model.hiddenL.bias.grad}\")\n",
    "    print(f\"Output Layer Weights: {model.outputL.weight}, Biases: {model.outputL.bias}\")\n",
    "    print(f\"Output weight grad: {model.outputL.weight.grad}, Bias: {model.outputL.bias.grad}\")'''\n"
   ]
  },
  {
   "cell_type": "code",
   "execution_count": 115,
   "metadata": {},
   "outputs": [],
   "source": [
    "torch.save(model,\"first_model.pt\")"
   ]
  },
  {
   "cell_type": "code",
   "execution_count": 116,
   "metadata": {},
   "outputs": [
    {
     "name": "stdout",
     "output_type": "stream",
     "text": [
      "***Net Input of Hidden Layer***\n",
      " tensor([ 2.3233, -4.1682, -0.9420], grad_fn=<ViewBackward0>)\n",
      "Size: torch.Size([3])\n",
      "***Hidden Layer OP***\n",
      " tensor([2.3233, 0.0000, 0.0000], grad_fn=<ReluBackward0>)\n",
      "Size: torch.Size([3])\n",
      "***Predicted Value***\n",
      " tensor([-0.6932], grad_fn=<ViewBackward0>)\n",
      "Size: torch.Size([1])\n",
      "<class 'torch.Tensor'> tensor([-0.6932], grad_fn=<ViewBackward0>) tensor([-0.8093])\n"
     ]
    }
   ],
   "source": [
    "model = torch.load(\"first_model.pt\")\n",
    "model.eval()\n",
    "\n",
    "ypred = model(x_train[300])\n",
    "print(type(X[300]), ypred, torch.sin(x_train[300]))"
   ]
  },
  {
   "cell_type": "code",
   "execution_count": 119,
   "metadata": {},
   "outputs": [
    {
     "name": "stdout",
     "output_type": "stream",
     "text": [
      "***Net Input of Hidden Layer***\n",
      " tensor([[ 2.9910, -5.2800, -1.8090],\n",
      "        [ 2.9888, -5.2763, -1.8061],\n",
      "        [ 2.9865, -5.2726, -1.8032],\n",
      "        ...,\n",
      "        [-1.4534,  2.1210,  3.9624],\n",
      "        [-1.4557,  2.1247,  3.9653],\n",
      "        [-1.4579,  2.1284,  3.9682]], grad_fn=<AddmmBackward0>)\n",
      "Size: torch.Size([2000, 3])\n",
      "***Hidden Layer OP***\n",
      " tensor([[2.9910, 0.0000, 0.0000],\n",
      "        [2.9888, 0.0000, 0.0000],\n",
      "        [2.9865, 0.0000, 0.0000],\n",
      "        ...,\n",
      "        [0.0000, 2.1210, 3.9624],\n",
      "        [0.0000, 2.1247, 3.9653],\n",
      "        [0.0000, 2.1284, 3.9682]], grad_fn=<ReluBackward0>)\n",
      "Size: torch.Size([2000, 3])\n",
      "***Predicted Value***\n",
      " tensor([[-0.4541],\n",
      "        [-0.4549],\n",
      "        [-0.4557],\n",
      "        ...,\n",
      "        [-0.1751],\n",
      "        [-0.1771],\n",
      "        [-0.1792]], grad_fn=<AddmmBackward0>)\n",
      "Size: torch.Size([2000, 1])\n",
      "<class 'numpy.ndarray'>\n",
      "(2000, 1) <class 'numpy.ndarray'>\n"
     ]
    },
    {
     "data": {
      "image/png": "[encoded data removed]",
      "text/plain": [
       "<Figure size 640x480 with 1 Axes>"
      ]
     },
     "metadata": {},
     "output_type": "display_data"
    }
   ],
   "source": [
    "predicted = model(x_train).data.numpy()\n",
    "print(type(predicted))\n",
    "print(predicted.shape, type(predicted))\n",
    "\n",
    "plt.clf()\n",
    "plt.plot(x_train, y_train, 'go', label='True data', alpha=0.5)\n",
    "plt.plot(x_train, predicted, '--', label='Predictions', alpha=0.5)\n",
    "plt.legend(loc='best')\n",
    "plt.show()"
   ]
  },
  {
   "cell_type": "code",
   "execution_count": 120,
   "metadata": {},
   "outputs": [
    {
     "data": {
      "text/html": [
       "<div>\n",
       "<style scoped>\n",
       "    .dataframe tbody tr th:only-of-type {\n",
       "        vertical-align: middle;\n",
       "    }\n",
       "\n",
       "    .dataframe tbody tr th {\n",
       "        vertical-align: top;\n",
       "    }\n",
       "\n",
       "    .dataframe thead th {\n",
       "        text-align: right;\n",
       "    }\n",
       "</style>\n",
       "<table border=\"1\" class=\"dataframe\">\n",
       "  <thead>\n",
       "    <tr style=\"text-align: right;\">\n",
       "      <th></th>\n",
       "      <th>Epochs</th>\n",
       "      <th>Losses</th>\n",
       "    </tr>\n",
       "  </thead>\n",
       "  <tbody>\n",
       "    <tr>\n",
       "      <th>0</th>\n",
       "      <td>1.0</td>\n",
       "      <td>0.244538</td>\n",
       "    </tr>\n",
       "    <tr>\n",
       "      <th>1</th>\n",
       "      <td>50.0</td>\n",
       "      <td>0.105716</td>\n",
       "    </tr>\n",
       "    <tr>\n",
       "      <th>2</th>\n",
       "      <td>100.0</td>\n",
       "      <td>0.079062</td>\n",
       "    </tr>\n",
       "    <tr>\n",
       "      <th>3</th>\n",
       "      <td>200.0</td>\n",
       "      <td>0.050224</td>\n",
       "    </tr>\n",
       "    <tr>\n",
       "      <th>4</th>\n",
       "      <td>500.0</td>\n",
       "      <td>0.026969</td>\n",
       "    </tr>\n",
       "    <tr>\n",
       "      <th>5</th>\n",
       "      <td>1000.0</td>\n",
       "      <td>0.039844</td>\n",
       "    </tr>\n",
       "  </tbody>\n",
       "</table>\n",
       "</div>"
      ],
      "text/plain": [
       "   Epochs    Losses\n",
       "0     1.0  0.244538\n",
       "1    50.0  0.105716\n",
       "2   100.0  0.079062\n",
       "3   200.0  0.050224\n",
       "4   500.0  0.026969\n",
       "5  1000.0  0.039844"
      ]
     },
     "execution_count": 120,
     "metadata": {},
     "output_type": "execute_result"
    }
   ],
   "source": [
    "array = [[1,50,100,200,500,1000], losses]\n",
    "df = pd.DataFrame(array).T\n",
    "df.columns = [\"Epochs\",\"Losses\"]\n",
    "df\n"
   ]
  },
  {
   "cell_type": "code",
   "execution_count": 122,
   "metadata": {},
   "outputs": [],
   "source": [
    "path = r\"C:\\Users\\psg\\Desktop\\22n208\"\n",
    "df.to_csv(\"output.csv\",index=False)"
   ]
  },
  {
   "cell_type": "code",
   "execution_count": null,
   "metadata": {},
   "outputs": [],
   "source": [
    "'''create table:\n",
    "\n",
    "change no of epoch\n",
    "\n",
    "50\n",
    "500\n",
    "1000\n",
    "\n",
    "explore how the loss is changing,\n",
    "\n",
    "change learning rate and see how its going -> make it 1, 0.1 0.01 0.001\n",
    "\n",
    "fix no of epochs'''"
   ]
  }
 ],
 "metadata": {
  "kernelspec": {
   "display_name": ".env",
   "language": "python",
   "name": "python3"
  },
  "language_info": {
   "codemirror_mode": {
    "name": "ipython",
    "version": 3
   },
   "file_extension": ".py",
   "mimetype": "text/x-python",
   "name": "python",
   "nbconvert_exporter": "python",
   "pygments_lexer": "ipython3",
   "version": "3.12.4"
  },
  "orig_nbformat": 4
 },
 "nbformat": 4,
 "nbformat_minor": 2
}
