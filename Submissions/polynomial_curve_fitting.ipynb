{
 "cells": [
  {
   "cell_type": "code",
   "execution_count": 1,
   "metadata": {},
   "outputs": [],
   "source": [
    "import torch\n",
    "import torch.nn as nn\n",
    "import torch.nn.functional as F\n",
    "import math\n",
    "import matplotlib.pyplot as plt\n",
    "from torch.utils.data import Dataset, DataLoader"
   ]
  },
  {
   "cell_type": "code",
   "execution_count": 2,
   "metadata": {},
   "outputs": [
    {
     "name": "stdout",
     "output_type": "stream",
     "text": [
      "tensor([-3.1416, -3.1384, -3.1353,  ...,  3.1353,  3.1384,  3.1416])\n"
     ]
    }
   ],
   "source": [
    "x = torch.linspace(-math.pi,math.pi,2000)\n",
    "y = torch.sin(x)\n",
    "print(x)"
   ]
  },
  {
   "cell_type": "code",
   "execution_count": 3,
   "metadata": {},
   "outputs": [
    {
     "name": "stdout",
     "output_type": "stream",
     "text": [
      "tensor([[-3.1416],\n",
      "        [-3.1384],\n",
      "        [-3.1353],\n",
      "        ...,\n",
      "        [ 3.1353],\n",
      "        [ 3.1384],\n",
      "        [ 3.1416]])\n",
      "tensor([[ 8.7423e-08],\n",
      "        [-3.1430e-03],\n",
      "        [-6.2863e-03],\n",
      "        ...,\n",
      "        [ 6.2863e-03],\n",
      "        [ 3.1430e-03],\n",
      "        [-8.7423e-08]])\n"
     ]
    }
   ],
   "source": [
    "x_train = x.reshape(-1,1)\n",
    "y_train = torch.reshape(y,(-1,1))\n",
    "print(x_train)\n",
    "print(y_train)"
   ]
  },
  {
   "cell_type": "code",
   "execution_count": 4,
   "metadata": {},
   "outputs": [],
   "source": [
    "class PolynomialDataset(Dataset):\n",
    "    def __init__(self,x,y):\n",
    "        self.x = x\n",
    "        self.y = y\n",
    "    \n",
    "    def __len__(self):\n",
    "        return len(self.x)\n",
    "    \n",
    "    def __getitem__(self,idx):\n",
    "        return self.x[idx],self.y[idx]\n",
    "    "
   ]
  },
  {
   "cell_type": "code",
   "execution_count": 5,
   "metadata": {},
   "outputs": [],
   "source": [
    "train_set = PolynomialDataset(x_train,y_train)\n",
    "train_loader = DataLoader(train_set,batch_size=32,shuffle=True)"
   ]
  },
  {
   "cell_type": "code",
   "execution_count": 12,
   "metadata": {},
   "outputs": [
    {
     "name": "stdout",
     "output_type": "stream",
     "text": [
      "SimpleANN(\n",
      "  (l1): Linear(in_features=1, out_features=10, bias=True)\n",
      "  (l2): Linear(in_features=10, out_features=5, bias=True)\n",
      "  (l3): Linear(in_features=5, out_features=3, bias=True)\n",
      "  (l4): Linear(in_features=3, out_features=1, bias=True)\n",
      ")\n"
     ]
    }
   ],
   "source": [
    "class SimpleANN(nn.Module):\n",
    "    def __init__(self):\n",
    "        super().__init__()\n",
    "        self.l1 = nn.Linear(1,10)\n",
    "        self.l2 = nn.Linear(10,5)\n",
    "        self.l3 = nn.Linear(5,3)\n",
    "        self.l4 = nn.Linear(3,1)\n",
    "    \n",
    "    def forward(self,x):\n",
    "        h1 = self.l1(x)\n",
    "        h2 = self.l2(F.relu(h1))\n",
    "        h3 = self.l3(F.sigmoid(h2))\n",
    "        h4 = self.l4(F.tanh(h3))\n",
    "\n",
    "        return h4\n"
   ]
  },
  {
   "cell_type": "code",
   "execution_count": 17,
   "metadata": {},
   "outputs": [
    {
     "name": "stdout",
     "output_type": "stream",
     "text": [
      "SimpleANN(\n",
      "  (l1): Linear(in_features=1, out_features=10, bias=True)\n",
      "  (l2): Linear(in_features=10, out_features=5, bias=True)\n",
      "  (l3): Linear(in_features=5, out_features=3, bias=True)\n",
      "  (l4): Linear(in_features=3, out_features=1, bias=True)\n",
      ")\n"
     ]
    }
   ],
   "source": [
    "model = SimpleANN()\n",
    "print(model)\n",
    "criterion = nn.MSELoss()\n",
    "optimizer = torch.optim.SGD(model.parameters(),lr=(10e-2))\n",
    "epochs = 100"
   ]
  },
  {
   "cell_type": "code",
   "execution_count": 18,
   "metadata": {},
   "outputs": [
    {
     "name": "stdout",
     "output_type": "stream",
     "text": [
      "Epoch 1/100, Batch 63/63, Loss: 0.4142\n",
      "Epoch 2/100, Batch 63/63, Loss: 0.0934\n",
      "Epoch 3/100, Batch 63/63, Loss: 0.0274\n",
      "Epoch 4/100, Batch 63/63, Loss: 0.0510\n",
      "Epoch 5/100, Batch 63/63, Loss: 0.0281\n",
      "Epoch 6/100, Batch 63/63, Loss: 0.0467\n",
      "Epoch 7/100, Batch 63/63, Loss: 0.0370\n",
      "Epoch 8/100, Batch 63/63, Loss: 0.0510\n",
      "Epoch 9/100, Batch 63/63, Loss: 0.0189\n",
      "Epoch 10/100, Batch 63/63, Loss: 0.0224\n",
      "Epoch 11/100, Batch 63/63, Loss: 0.0267\n",
      "Epoch 12/100, Batch 63/63, Loss: 0.0207\n",
      "Epoch 13/100, Batch 63/63, Loss: 0.0517\n",
      "Epoch 14/100, Batch 63/63, Loss: 0.0204\n",
      "Epoch 15/100, Batch 63/63, Loss: 0.0410\n",
      "Epoch 16/100, Batch 63/63, Loss: 0.0196\n",
      "Epoch 17/100, Batch 63/63, Loss: 0.0428\n",
      "Epoch 18/100, Batch 63/63, Loss: 0.0466\n",
      "Epoch 19/100, Batch 63/63, Loss: 0.0338\n",
      "Epoch 20/100, Batch 63/63, Loss: 0.0386\n",
      "Epoch 21/100, Batch 63/63, Loss: 0.0249\n",
      "Epoch 22/100, Batch 63/63, Loss: 0.0558\n",
      "Epoch 23/100, Batch 63/63, Loss: 0.0135\n",
      "Epoch 24/100, Batch 63/63, Loss: 0.0267\n",
      "Epoch 25/100, Batch 63/63, Loss: 0.0379\n",
      "Epoch 26/100, Batch 63/63, Loss: 0.0525\n",
      "Epoch 27/100, Batch 63/63, Loss: 0.0239\n",
      "Epoch 28/100, Batch 63/63, Loss: 0.0227\n",
      "Epoch 29/100, Batch 63/63, Loss: 0.0181\n",
      "Epoch 30/100, Batch 63/63, Loss: 0.0076\n",
      "Epoch 31/100, Batch 63/63, Loss: 0.0067\n",
      "Epoch 32/100, Batch 63/63, Loss: 0.0137\n",
      "Epoch 33/100, Batch 63/63, Loss: 0.0066\n",
      "Epoch 34/100, Batch 63/63, Loss: 0.0074\n",
      "Epoch 35/100, Batch 63/63, Loss: 0.0143\n",
      "Epoch 36/100, Batch 63/63, Loss: 0.0092\n",
      "Epoch 37/100, Batch 63/63, Loss: 0.0040\n",
      "Epoch 38/100, Batch 63/63, Loss: 0.0057\n",
      "Epoch 39/100, Batch 63/63, Loss: 0.0329\n",
      "Epoch 40/100, Batch 63/63, Loss: 0.0049\n",
      "Epoch 41/100, Batch 63/63, Loss: 0.0031\n",
      "Epoch 42/100, Batch 63/63, Loss: 0.0057\n",
      "Epoch 43/100, Batch 63/63, Loss: 0.0597\n",
      "Epoch 44/100, Batch 63/63, Loss: 0.0026\n",
      "Epoch 45/100, Batch 63/63, Loss: 0.0046\n",
      "Epoch 46/100, Batch 63/63, Loss: 0.0025\n",
      "Epoch 47/100, Batch 63/63, Loss: 0.0025\n",
      "Epoch 48/100, Batch 63/63, Loss: 0.0030\n",
      "Epoch 49/100, Batch 63/63, Loss: 0.0038\n",
      "Epoch 50/100, Batch 63/63, Loss: 0.0025\n",
      "Epoch 51/100, Batch 63/63, Loss: 0.0010\n",
      "Epoch 52/100, Batch 63/63, Loss: 0.0024\n",
      "Epoch 53/100, Batch 63/63, Loss: 0.0308\n",
      "Epoch 54/100, Batch 63/63, Loss: 0.0014\n",
      "Epoch 55/100, Batch 63/63, Loss: 0.0016\n",
      "Epoch 56/100, Batch 63/63, Loss: 0.0009\n",
      "Epoch 57/100, Batch 63/63, Loss: 0.0012\n",
      "Epoch 58/100, Batch 63/63, Loss: 0.0019\n",
      "Epoch 59/100, Batch 63/63, Loss: 0.0083\n",
      "Epoch 60/100, Batch 63/63, Loss: 0.0033\n",
      "Epoch 61/100, Batch 63/63, Loss: 0.0035\n",
      "Epoch 62/100, Batch 63/63, Loss: 0.0011\n",
      "Epoch 63/100, Batch 63/63, Loss: 0.0006\n",
      "Epoch 64/100, Batch 63/63, Loss: 0.0004\n",
      "Epoch 65/100, Batch 63/63, Loss: 0.0015\n",
      "Epoch 66/100, Batch 63/63, Loss: 0.0007\n",
      "Epoch 67/100, Batch 63/63, Loss: 0.0021\n",
      "Epoch 68/100, Batch 63/63, Loss: 0.0018\n",
      "Epoch 69/100, Batch 63/63, Loss: 0.0004\n",
      "Epoch 70/100, Batch 63/63, Loss: 0.0028\n",
      "Epoch 71/100, Batch 63/63, Loss: 0.0007\n",
      "Epoch 72/100, Batch 63/63, Loss: 0.0040\n",
      "Epoch 73/100, Batch 63/63, Loss: 0.0006\n",
      "Epoch 74/100, Batch 63/63, Loss: 0.0004\n",
      "Epoch 75/100, Batch 63/63, Loss: 0.0006\n",
      "Epoch 76/100, Batch 63/63, Loss: 0.0006\n",
      "Epoch 77/100, Batch 63/63, Loss: 0.0003\n",
      "Epoch 78/100, Batch 63/63, Loss: 0.0010\n",
      "Epoch 79/100, Batch 63/63, Loss: 0.0001\n",
      "Epoch 80/100, Batch 63/63, Loss: 0.0005\n",
      "Epoch 81/100, Batch 63/63, Loss: 0.0013\n",
      "Epoch 82/100, Batch 63/63, Loss: 0.0005\n",
      "Epoch 83/100, Batch 63/63, Loss: 0.0009\n",
      "Epoch 84/100, Batch 63/63, Loss: 0.0014\n",
      "Epoch 85/100, Batch 63/63, Loss: 0.0005\n",
      "Epoch 86/100, Batch 63/63, Loss: 0.0003\n",
      "Epoch 87/100, Batch 63/63, Loss: 0.0005\n",
      "Epoch 88/100, Batch 63/63, Loss: 0.0005\n",
      "Epoch 89/100, Batch 63/63, Loss: 0.0004\n",
      "Epoch 90/100, Batch 63/63, Loss: 0.0009\n",
      "Epoch 91/100, Batch 63/63, Loss: 0.0010\n",
      "Epoch 92/100, Batch 63/63, Loss: 0.0005\n",
      "Epoch 93/100, Batch 63/63, Loss: 0.0004\n",
      "Epoch 94/100, Batch 63/63, Loss: 0.0006\n",
      "Epoch 95/100, Batch 63/63, Loss: 0.0037\n",
      "Epoch 96/100, Batch 63/63, Loss: 0.0008\n",
      "Epoch 97/100, Batch 63/63, Loss: 0.0005\n",
      "Epoch 98/100, Batch 63/63, Loss: 0.0004\n",
      "Epoch 99/100, Batch 63/63, Loss: 0.0001\n",
      "Epoch 100/100, Batch 63/63, Loss: 0.0006\n"
     ]
    }
   ],
   "source": [
    "losses = []\n",
    "for epoch in range(epochs):\n",
    "    for batch_idx, (inputs,targets) in enumerate(train_loader):\n",
    "        optimizer.zero_grad()\n",
    "\n",
    "        output = model(inputs)\n",
    "\n",
    "        loss = criterion(targets,output)\n",
    "\n",
    "        loss.backward()\n",
    "\n",
    "        optimizer.step()\n",
    "\n",
    "    print(f\"Epoch {epoch + 1}/{100}, Batch {batch_idx + 1}/{len(train_loader)}, Loss: {loss.item():.4f}\")        \n",
    "    losses.append(loss.item())"
   ]
  },
  {
   "cell_type": "code",
   "execution_count": 19,
   "metadata": {},
   "outputs": [
    {
     "name": "stdout",
     "output_type": "stream",
     "text": [
      "<class 'numpy.ndarray'>\n",
      "(2000, 1) <class 'numpy.ndarray'>\n"
     ]
    },
    {
     "data": {
      "image/png": "[encoded data removed]",
      "text/plain": [
       "<Figure size 640x480 with 1 Axes>"
      ]
     },
     "metadata": {},
     "output_type": "display_data"
    }
   ],
   "source": [
    "predicted = model(x_train).data.numpy()\n",
    "print(type(predicted))\n",
    "print(predicted.shape, type(predicted))\n",
    "\n",
    "plt.clf()\n",
    "#plt.plot(x_train, y_train, 'go', label='True data', alpha=0.5)\n",
    "plt.plot(x_train, predicted, '--', label='Predictions', alpha=0.5)\n",
    "plt.legend(loc='best')\n",
    "plt.show()"
   ]
  },
  {
   "cell_type": "code",
   "execution_count": 15,
   "metadata": {},
   "outputs": [
    {
     "data": {
      "text/plain": [
       "[<matplotlib.lines.Line2D at 0xf7167fe570>]"
      ]
     },
     "execution_count": 15,
     "metadata": {},
     "output_type": "execute_result"
    },
    {
     "data": {
      "image/png": "[encoded data removed]",
      "text/plain": [
       "<Figure size 640x480 with 1 Axes>"
      ]
     },
     "metadata": {},
     "output_type": "display_data"
    }
   ],
   "source": [
    "plt.plot(range(0,epochs),losses)"
   ]
  },
  {
   "cell_type": "code",
   "execution_count": 12,
   "metadata": {},
   "outputs": [
    {
     "name": "stdout",
     "output_type": "stream",
     "text": [
      "Parameter containing:\n",
      "tensor([[ 0.3311],\n",
      "        [-0.9770],\n",
      "        [ 0.1436],\n",
      "        [-1.1274],\n",
      "        [ 0.2074],\n",
      "        [ 0.5290],\n",
      "        [-0.8925],\n",
      "        [ 0.5937],\n",
      "        [ 1.3344],\n",
      "        [-0.8764]], requires_grad=True)\n",
      "Parameter containing:\n",
      "tensor([-0.1580,  0.1526, -0.7999, -0.5591,  0.6517,  0.8216, -0.1977,  1.1251,\n",
      "         0.0728,  1.4844], requires_grad=True)\n",
      "Parameter containing:\n",
      "tensor([[ 0.1071, -0.5264, -0.2088, -0.5517,  0.2568,  0.0131, -0.5605, -0.5135,\n",
      "          0.5751,  0.8624],\n",
      "        [-0.1957,  0.4301, -0.1291,  0.0848, -0.4514,  0.0320,  0.5446,  0.2734,\n",
      "         -0.3956, -0.4353],\n",
      "        [-0.3523,  0.4611, -0.0193,  0.2842,  0.0446, -0.3035,  0.1344, -0.7175,\n",
      "         -0.4383,  0.5548],\n",
      "        [-0.1204, -0.2449, -0.3054, -0.5271,  0.4034,  0.0178, -0.2685, -0.0816,\n",
      "         -0.4686, -0.8605],\n",
      "        [ 0.1063,  0.2698,  0.2210,  0.3820, -0.1517, -0.4950,  0.4430, -0.7139,\n",
      "         -0.6572,  0.2218]], requires_grad=True)\n",
      "Parameter containing:\n",
      "tensor([ 0.1589, -0.2750,  0.0677,  0.1899,  0.2148], requires_grad=True)\n",
      "Parameter containing:\n",
      "tensor([[ 0.7601, -0.5572,  0.1965, -1.1061,  0.7936],\n",
      "        [ 0.4535, -0.5838,  0.1430, -0.2525,  0.3345],\n",
      "        [-1.2774,  0.6521, -0.4348,  0.7035, -0.5313]], requires_grad=True)\n",
      "Parameter containing:\n",
      "tensor([-0.3300, -0.1173,  0.5770], requires_grad=True)\n",
      "Parameter containing:\n",
      "tensor([[-1.1335, -0.5472,  1.1052]], requires_grad=True)\n",
      "Parameter containing:\n",
      "tensor([0.5262], requires_grad=True)\n"
     ]
    }
   ],
   "source": [
    "for param in model.parameters():\n",
    "    print(param)"
   ]
  },
  {
   "cell_type": "code",
   "execution_count": 13,
   "metadata": {},
   "outputs": [
    {
     "name": "stdout",
     "output_type": "stream",
     "text": [
      "Parameter Name = l1.weight \n",
      " Parameter containing:\n",
      "tensor([[ 0.3311],\n",
      "        [-0.9770],\n",
      "        [ 0.1436],\n",
      "        [-1.1274],\n",
      "        [ 0.2074],\n",
      "        [ 0.5290],\n",
      "        [-0.8925],\n",
      "        [ 0.5937],\n",
      "        [ 1.3344],\n",
      "        [-0.8764]], requires_grad=True)\n",
      "Parameter Values:\n",
      "tensor([[ 0.3311],\n",
      "        [-0.9770],\n",
      "        [ 0.1436],\n",
      "        [-1.1274],\n",
      "        [ 0.2074],\n",
      "        [ 0.5290],\n",
      "        [-0.8925],\n",
      "        [ 0.5937],\n",
      "        [ 1.3344],\n",
      "        [-0.8764]])\n",
      "Gradient:\n",
      "tensor([[-0.0186],\n",
      "        [-0.0444],\n",
      "        [ 0.0000],\n",
      "        [-0.0301],\n",
      "        [ 0.0213],\n",
      "        [ 0.0030],\n",
      "        [-0.0499],\n",
      "        [ 0.0259],\n",
      "        [-0.0697],\n",
      "        [ 0.0402]])\n",
      "--------------------------------------------------\n",
      "Parameter Name = l1.bias \n",
      " Parameter containing:\n",
      "tensor([-0.1580,  0.1526, -0.7999, -0.5591,  0.6517,  0.8216, -0.1977,  1.1251,\n",
      "         0.0728,  1.4844], requires_grad=True)\n",
      "Parameter Values:\n",
      "tensor([-0.1580,  0.1526, -0.7999, -0.5591,  0.6517,  0.8216, -0.1977,  1.1251,\n",
      "         0.0728,  1.4844])\n",
      "Gradient:\n",
      "tensor([-0.0095,  0.0241,  0.0000,  0.0145, -0.0217,  0.0121,  0.0253,  0.0555,\n",
      "        -0.0411, -0.0982])\n",
      "--------------------------------------------------\n",
      "Parameter Name = l2.weight \n",
      " Parameter containing:\n",
      "tensor([[ 0.1071, -0.5264, -0.2088, -0.5517,  0.2568,  0.0131, -0.5605, -0.5135,\n",
      "          0.5751,  0.8624],\n",
      "        [-0.1957,  0.4301, -0.1291,  0.0848, -0.4514,  0.0320,  0.5446,  0.2734,\n",
      "         -0.3956, -0.4353],\n",
      "        [-0.3523,  0.4611, -0.0193,  0.2842,  0.0446, -0.3035,  0.1344, -0.7175,\n",
      "         -0.4383,  0.5548],\n",
      "        [-0.1204, -0.2449, -0.3054, -0.5271,  0.4034,  0.0178, -0.2685, -0.0816,\n",
      "         -0.4686, -0.8605],\n",
      "        [ 0.1063,  0.2698,  0.2210,  0.3820, -0.1517, -0.4950,  0.4430, -0.7139,\n",
      "         -0.6572,  0.2218]], requires_grad=True)\n",
      "Parameter Values:\n",
      "tensor([[ 0.1071, -0.5264, -0.2088, -0.5517,  0.2568,  0.0131, -0.5605, -0.5135,\n",
      "          0.5751,  0.8624],\n",
      "        [-0.1957,  0.4301, -0.1291,  0.0848, -0.4514,  0.0320,  0.5446,  0.2734,\n",
      "         -0.3956, -0.4353],\n",
      "        [-0.3523,  0.4611, -0.0193,  0.2842,  0.0446, -0.3035,  0.1344, -0.7175,\n",
      "         -0.4383,  0.5548],\n",
      "        [-0.1204, -0.2449, -0.3054, -0.5271,  0.4034,  0.0178, -0.2685, -0.0816,\n",
      "         -0.4686, -0.8605],\n",
      "        [ 0.1063,  0.2698,  0.2210,  0.3820, -0.1517, -0.4950,  0.4430, -0.7139,\n",
      "         -0.6572,  0.2218]])\n",
      "Gradient:\n",
      "tensor([[-0.0150, -0.0639,  0.0000, -0.0495, -0.0495, -0.0712, -0.0468, -0.0913,\n",
      "         -0.0861, -0.1219],\n",
      "        [ 0.0084,  0.0441,  0.0000,  0.0339,  0.0308,  0.0428,  0.0322,  0.0553,\n",
      "          0.0492,  0.0845],\n",
      "        [-0.0006, -0.0033,  0.0000, -0.0018, -0.0062, -0.0083, -0.0019, -0.0112,\n",
      "         -0.0053, -0.0131],\n",
      "        [ 0.0128,  0.0052,  0.0000,  0.0024,  0.0375,  0.0609,  0.0026,  0.0769,\n",
      "          0.0737,  0.0301],\n",
      "        [-0.0006, -0.0117,  0.0000, -0.0074, -0.0108, -0.0129, -0.0075, -0.0178,\n",
      "         -0.0065, -0.0324]])\n",
      "--------------------------------------------------\n",
      "Parameter Name = l2.bias \n",
      " Parameter containing:\n",
      "tensor([ 0.1589, -0.2750,  0.0677,  0.1899,  0.2148], requires_grad=True)\n",
      "Parameter Values:\n",
      "tensor([ 0.1589, -0.2750,  0.0677,  0.1899,  0.2148])\n",
      "Gradient:\n",
      "tensor([-0.0752,  0.0491, -0.0093,  0.0417, -0.0184])\n",
      "--------------------------------------------------\n",
      "Parameter Name = l3.weight \n",
      " Parameter containing:\n",
      "tensor([[ 0.7601, -0.5572,  0.1965, -1.1061,  0.7936],\n",
      "        [ 0.4535, -0.5838,  0.1430, -0.2525,  0.3345],\n",
      "        [-1.2774,  0.6521, -0.4348,  0.7035, -0.5313]], requires_grad=True)\n",
      "Parameter Values:\n",
      "tensor([[ 0.7601, -0.5572,  0.1965, -1.1061,  0.7936],\n",
      "        [ 0.4535, -0.5838,  0.1430, -0.2525,  0.3345],\n",
      "        [-1.2774,  0.6521, -0.4348,  0.7035, -0.5313]])\n",
      "Gradient:\n",
      "tensor([[-0.1027, -0.0547, -0.0696, -0.0298, -0.0602],\n",
      "        [-0.0547, -0.0314, -0.0418, -0.0150, -0.0369],\n",
      "        [ 0.1006,  0.0548,  0.0693,  0.0292,  0.0605]])\n",
      "--------------------------------------------------\n",
      "Parameter Name = l3.bias \n",
      " Parameter containing:\n",
      "tensor([-0.3300, -0.1173,  0.5770], requires_grad=True)\n",
      "Parameter Values:\n",
      "tensor([-0.3300, -0.1173,  0.5770])\n",
      "Gradient:\n",
      "tensor([-0.1583, -0.0863,  0.1564])\n",
      "--------------------------------------------------\n",
      "Parameter Name = l4.weight \n",
      " Parameter containing:\n",
      "tensor([[-1.1335, -0.5472,  1.1052]], requires_grad=True)\n",
      "Parameter Values:\n",
      "tensor([[-1.1335, -0.5472,  1.1052]])\n",
      "Gradient:\n",
      "tensor([[ 0.0233,  0.0177, -0.0425]])\n",
      "--------------------------------------------------\n",
      "Parameter Name = l4.bias \n",
      " Parameter containing:\n",
      "tensor([0.5262], requires_grad=True)\n",
      "Parameter Values:\n",
      "tensor([0.5262])\n",
      "Gradient:\n",
      "tensor([0.1616])\n",
      "--------------------------------------------------\n"
     ]
    }
   ],
   "source": [
    "for name,param in model.named_parameters():\n",
    "    print(f\"Parameter Name = {name} \\n {param}\")\n",
    "    print(f\"Parameter Values:\")\n",
    "    print(f\"{param.data}\")\n",
    "    print(\"Gradient:\")\n",
    "    print(f\"{param.grad}\")\n",
    "    print(\"-\"*50)"
   ]
  },
  {
   "cell_type": "code",
   "execution_count": null,
   "metadata": {},
   "outputs": [],
   "source": []
  }
 ],
 "metadata": {
  "kernelspec": {
   "display_name": ".env",
   "language": "python",
   "name": "python3"
  },
  "language_info": {
   "codemirror_mode": {
    "name": "ipython",
    "version": 3
   },
   "file_extension": ".py",
   "mimetype": "text/x-python",
   "name": "python",
   "nbconvert_exporter": "python",
   "pygments_lexer": "ipython3",
   "version": "3.12.4"
  },
  "orig_nbformat": 4
 },
 "nbformat": 4,
 "nbformat_minor": 2
}
