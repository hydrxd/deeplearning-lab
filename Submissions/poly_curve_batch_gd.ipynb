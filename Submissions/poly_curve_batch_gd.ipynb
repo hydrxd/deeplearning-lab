{
 "cells": [
  {
   "cell_type": "code",
   "execution_count": 2,
   "metadata": {},
   "outputs": [],
   "source": [
    "import torch\n",
    "import torch.nn as nn\n",
    "from torch.utils.data import random_split,Dataset, DataLoader\n",
    "import matplotlib.pyplot as plt\n",
    "import torch.nn.functional as F\n",
    "import math\n",
    "from sklearn.model_selection import ParameterGrid"
   ]
  },
  {
   "cell_type": "code",
   "execution_count": 3,
   "metadata": {},
   "outputs": [],
   "source": [
    "x = torch.linspace(-math.pi,math.pi,2000)\n",
    "y = torch.sin(x)"
   ]
  },
  {
   "cell_type": "code",
   "execution_count": 4,
   "metadata": {},
   "outputs": [],
   "source": [
    "x_train = x.reshape(-1,1)\n",
    "y_train = torch.reshape(y,(-1,1))"
   ]
  },
  {
   "cell_type": "code",
   "execution_count": 5,
   "metadata": {},
   "outputs": [],
   "source": [
    "class PolynomialDataset(Dataset):\n",
    "    def __init__(self,x,y):\n",
    "        self.x = x\n",
    "        self.y = y\n",
    "\n",
    "    def __len__(self):\n",
    "        return len(self.x)\n",
    "    \n",
    "    def __getitem__(self,idx):\n",
    "        return self.x[idx], self.y[idx]\n",
    "   "
   ]
  },
  {
   "cell_type": "code",
   "execution_count": 95,
   "metadata": {},
   "outputs": [],
   "source": [
    "train_set, test_set, val_set = random_split(PolynomialDataset(x_train,y_train),[1000,500,500])\n",
    "test_loader = DataLoader(test_set,batch_size=32,shuffle=True)\n",
    "val_loader = DataLoader(val_set,batch_size=32,shuffle=True)"
   ]
  },
  {
   "cell_type": "code",
   "execution_count": 96,
   "metadata": {},
   "outputs": [
    {
     "name": "stdout",
     "output_type": "stream",
     "text": [
      "SimpleANN(\n",
      "  (l1): Linear(in_features=1, out_features=5, bias=True)\n",
      "  (l2): Linear(in_features=5, out_features=8, bias=True)\n",
      "  (l3): Linear(in_features=8, out_features=5, bias=True)\n",
      "  (l4): Linear(in_features=5, out_features=1, bias=True)\n",
      ")\n"
     ]
    }
   ],
   "source": [
    "class SimpleANN(nn.Module):\n",
    "    def __init__(self):\n",
    "        super().__init__()\n",
    "        self.l1 = nn.Linear(1,5)\n",
    "        self.l2 = nn.Linear(5,8)\n",
    "        self.l3 = nn.Linear(8,5)\n",
    "        self.l4 = nn.Linear(5,1)\n",
    "    \n",
    "    def forward(self,x):\n",
    "        h1 = self.l1(x)\n",
    "        ho1 = F.relu(h1)\n",
    "        h2 = self.l2(ho1)\n",
    "        ho2 = F.sigmoid(h2)\n",
    "        h3 = self.l3(ho2)\n",
    "        ho3 = F.tanh(h3)\n",
    "        h4 = self.l4(ho3)\n",
    "\n",
    "        return h4\n",
    "\n",
    "model = SimpleANN()\n",
    "print(model)\n"
   ]
  },
  {
   "cell_type": "code",
   "execution_count": 106,
   "metadata": {},
   "outputs": [],
   "source": [
    "param_grid = {\n",
    "    'learning-rate': [(10e-02)],\n",
    "    'batch_size': [64,32],\n",
    "    'epochs': [10,40],\n",
    "    'optimizer': [torch.optim.SGD,torch.optim.Adam]\n",
    "}"
   ]
  },
  {
   "cell_type": "code",
   "execution_count": 111,
   "metadata": {},
   "outputs": [
    {
     "name": "stdout",
     "output_type": "stream",
     "text": [
      "Epoch 10/100, Validation Loss:0.0982\n",
      "Epoch 10/100, Batch 16/16, Loss: 0.1010\n",
      "Epoch 10/100, Validation Loss:0.0164\n",
      "Epoch 10/100, Batch 16/16, Loss: 0.0076\n",
      "Epoch 40/100, Validation Loss:0.0495\n",
      "Epoch 40/100, Batch 16/16, Loss: 0.0525\n",
      "Epoch 40/100, Validation Loss:0.0302\n",
      "Epoch 40/100, Batch 16/16, Loss: 0.0158\n",
      "Epoch 10/100, Validation Loss:0.0760\n",
      "Epoch 10/100, Batch 32/32, Loss: 0.0453\n",
      "Epoch 10/100, Validation Loss:0.0468\n",
      "Epoch 10/100, Batch 32/32, Loss: 0.0345\n",
      "Epoch 40/100, Validation Loss:0.0213\n",
      "Epoch 40/100, Batch 32/32, Loss: 0.0237\n",
      "Epoch 40/100, Validation Loss:0.0006\n",
      "Epoch 40/100, Batch 32/32, Loss: 0.0018\n"
     ]
    }
   ],
   "source": [
    "for params in ParameterGrid(param_grid):\n",
    "    train_loader = DataLoader(train_set,batch_size=params['batch_size'],shuffle=True)\n",
    "    model = SimpleANN()\n",
    "    optimizer = params['optimizer'](model.parameters(),params['learning-rate'])\n",
    "    criterion = nn.MSELoss()\n",
    "\n",
    "    losses = []\n",
    "    for epoch in range(params['epochs']):\n",
    "        for batch_idx,(inputs,targets) in enumerate(train_loader):\n",
    "            optimizer.zero_grad()\n",
    "            output = model(inputs)\n",
    "            loss = criterion(targets,output)\n",
    "            loss.backward()\n",
    "            optimizer.step()\n",
    "\n",
    "            model.eval()\n",
    "            with torch.no_grad():\n",
    "                validation_loss = 0.0\n",
    "                for val_batch_idx, (val_inputs,val_targets) in enumerate(val_loader):\n",
    "                    val_outputs = model(val_inputs)\n",
    "                    val_loss = criterion(val_targets,val_outputs)\n",
    "                    validation_loss+=val_loss.item()\n",
    "                \n",
    "                avg_val_loss = validation_loss/len(val_loader)\n",
    "        \n",
    "    print(f'Epoch {epoch + 1}/{100}, Validation Loss:{avg_val_loss:.4f}')\n",
    "        \n",
    "    print(f\"Epoch {epoch + 1}/{100}, Batch {batch_idx + 1}/{len(train_loader)}, Loss: {loss.item():.4f}\")      \n",
    "        #losses.append(loss.item())"
   ]
  },
  {
   "cell_type": "code",
   "execution_count": 114,
   "metadata": {},
   "outputs": [
    {
     "name": "stdout",
     "output_type": "stream",
     "text": [
      "<class 'numpy.ndarray'>\n",
      "(2000, 1) <class 'numpy.ndarray'>\n"
     ]
    },
    {
     "data": {
      "image/png": "[encoded data removed]",
      "text/plain": [
       "<Figure size 640x480 with 1 Axes>"
      ]
     },
     "metadata": {},
     "output_type": "display_data"
    }
   ],
   "source": [
    "with torch.no_grad():\n",
    "    predicted = model(x_train).data.numpy()\n",
    "    print(type(predicted))\n",
    "    print(predicted.shape, type(predicted))\n",
    "\n",
    "    plt.clf()\n",
    "    #plt.plot(x_train, y_train, 'go', label='True data', alpha=0.5)\n",
    "    plt.plot(x_train, predicted, '--', label='Predictions', alpha=0.5)\n",
    "    plt.legend(loc='best')\n",
    "    plt.show()"
   ]
  },
  {
   "cell_type": "code",
   "execution_count": 113,
   "metadata": {},
   "outputs": [
    {
     "name": "stdout",
     "output_type": "stream",
     "text": [
      "0\n",
      "500\n",
      "Test Loss: 0.0006, Accuracy: 0.0000\n"
     ]
    }
   ],
   "source": [
    "model.eval()\n",
    "with torch.no_grad():\n",
    "    test_loss = 0.0\n",
    "    correct = 0\n",
    "    total = 0\n",
    "\n",
    "    for batch_idx,(inputs,targets) in enumerate(test_loader):\n",
    "        outputs = model(inputs)\n",
    "        loss = criterion(outputs,targets)\n",
    "        test_loss +=loss.item()\n",
    "\n",
    "        _,predicted = torch.max(outputs,1)\n",
    "        total+=targets.size(0)\n",
    "        correct+=(predicted==targets).sum().item()\n",
    "\n",
    "    \n",
    "    avg_test_loss = test_loss/len(test_loader)\n",
    "    accuracy = correct/total\n",
    "    print(correct)\n",
    "    print(total)\n",
    "\n",
    "    print(f'Test Loss: {avg_test_loss:.4f}, Accuracy: {accuracy:.4f}')\n"
   ]
  },
  {
   "cell_type": "code",
   "execution_count": 63,
   "metadata": {},
   "outputs": [
    {
     "name": "stdout",
     "output_type": "stream",
     "text": [
      "Predicted Value: 0.9435\n"
     ]
    }
   ],
   "source": [
    "#Prediction\n",
    "#Step 1: Predict the input\n",
    "input_data = torch.tensor([1.0])\n",
    "\n",
    "#Step 2: Set model to evaluation mode\n",
    "model.eval()\n",
    "\n",
    "#Step 3: Perform Prediction\n",
    "with torch.no_grad():\n",
    "    output = model(input_data)\n",
    "\n",
    "#Step 4: Process the output\n",
    "predicted_output = output.item()\n",
    "\n",
    "#Step 5: Print or use predicted value\n",
    "print(f'Predicted Value: {predicted_output:.4f}')"
   ]
  },
  {
   "cell_type": "code",
   "execution_count": null,
   "metadata": {},
   "outputs": [],
   "source": []
  }
 ],
 "metadata": {
  "kernelspec": {
   "display_name": ".env",
   "language": "python",
   "name": "python3"
  },
  "language_info": {
   "codemirror_mode": {
    "name": "ipython",
    "version": 3
   },
   "file_extension": ".py",
   "mimetype": "text/x-python",
   "name": "python",
   "nbconvert_exporter": "python",
   "pygments_lexer": "ipython3",
   "version": "3.12.4"
  },
  "orig_nbformat": 4
 },
 "nbformat": 4,
 "nbformat_minor": 2
}
